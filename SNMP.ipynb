{
 "cells": [
  {
   "cell_type": "markdown",
   "metadata": {},
   "source": [
    "# SNMP - Simple Network Management Protocol\n",
    "\n",
    "## Install snmpd tools, agent and mibs"
   ]
  },
  {
   "cell_type": "code",
   "execution_count": null,
   "metadata": {},
   "outputs": [],
   "source": [
    "%%bash\n",
    "\n",
    "# Install SNMP - Linux\n",
    "sudo apt update\n",
    "sudo apt install -y snmp snmpd snmp-mibs-downloader"
   ]
  },
  {
   "cell_type": "markdown",
   "metadata": {},
   "source": [
    "## Configure agent configuration file (/etc/snmp/snmpd.conf) and snmp tools configuration file (/etc/snmp/snmp.conf)"
   ]
  },
  {
   "cell_type": "code",
   "execution_count": null,
   "metadata": {},
   "outputs": [],
   "source": [
    "%%bash\n",
    "\n",
    "sudo mv /etc/snmp/snmpd.conf /etc/snmp/snmpd.conf.old\n",
    "\n",
    "sudo tee /etc/snmp/snmpd.conf > /dev/null <<EOF\n",
    "rocommunity public\n",
    "rwcommunity private\n",
    "EOF\n",
    "\n",
    "sudo sed -i '/mibs :/s/^/#/' /etc/snmp/snmp.conf"
   ]
  },
  {
   "cell_type": "markdown",
   "metadata": {},
   "source": [
    "## Start snmpd daemon (agent)"
   ]
  },
  {
   "cell_type": "code",
   "execution_count": null,
   "metadata": {},
   "outputs": [],
   "source": [
    "%%bash\n",
    "\n",
    "sudo service snmpd restart\n",
    "sudo service snmpd status\n",
    "\n",
    "# Mac\n",
    "# sudo launchctl unload /System/Library/LaunchDaemons/org.net-snmp.snmpd.plist\n",
    "# sudo launchctl load -w /System/Library/LaunchDaemons/org.net-snmp.snmpd.plist"
   ]
  },
  {
   "cell_type": "markdown",
   "metadata": {},
   "source": [
    "## List all downloaded mibs"
   ]
  },
  {
   "cell_type": "code",
   "execution_count": null,
   "metadata": {},
   "outputs": [],
   "source": [
    "%%bash\n",
    "\n",
    "ls -R /usr/share/snmp/mibs"
   ]
  },
  {
   "cell_type": "markdown",
   "metadata": {},
   "source": [
    "## Show RFC1213 object tree"
   ]
  },
  {
   "cell_type": "code",
   "execution_count": null,
   "metadata": {},
   "outputs": [],
   "source": [
    "%%bash\n",
    "\n",
    "# Variables\n",
    "MIB=\"/usr/share/snmp/mibs/ietf/RFC1213-MIB\"\n",
    "\n",
    "snmptranslate -m $MIB -Tp"
   ]
  },
  {
   "cell_type": "markdown",
   "metadata": {},
   "source": [
    "## Show the description of a specific object"
   ]
  },
  {
   "cell_type": "code",
   "execution_count": null,
   "metadata": {},
   "outputs": [],
   "source": [
    "%%bash\n",
    "\n",
    "# Variables\n",
    "OBJECT=\"sysDescr\"\n",
    "MIB=\"/usr/share/snmp/mibs/ietf/RFC1213-MIB\"\n",
    "\n",
    "# Command to extract text from search_string to } excluding the }\n",
    "sed -n \"/$OBJECT OBJECT-TYPE/,/}/p\" $MIB"
   ]
  },
  {
   "cell_type": "markdown",
   "metadata": {},
   "source": [
    "## Using snmpget"
   ]
  },
  {
   "cell_type": "code",
   "execution_count": null,
   "metadata": {},
   "outputs": [],
   "source": [
    "%%bash\n",
    "\n",
    "# snmpget -v <SNMP version> -c <community> <host> <obj1> <obj2> <obj3> \n",
    "\n",
    "snmpget -v 1 -c public localhost sysDescr.0 sysContact.0"
   ]
  },
  {
   "cell_type": "markdown",
   "metadata": {},
   "source": [
    "## Using snmpset"
   ]
  },
  {
   "cell_type": "code",
   "execution_count": null,
   "metadata": {},
   "outputs": [],
   "source": [
    "%%bash\n",
    "\n",
    "snmpset -v 1 -c private localhost sysContact.0 s admin@localhost\n",
    "snmpget -v 1 -c public localhost sysContact.0"
   ]
  },
  {
   "cell_type": "markdown",
   "metadata": {},
   "source": [
    "## Using snmpgetnext"
   ]
  },
  {
   "cell_type": "code",
   "execution_count": null,
   "metadata": {},
   "outputs": [],
   "source": [
    "%%bash\n",
    "\n",
    "snmpgetnext -v 1 -c public localhost system interfaces"
   ]
  },
  {
   "cell_type": "markdown",
   "metadata": {},
   "source": [
    "## Using snmpwalk"
   ]
  },
  {
   "cell_type": "code",
   "execution_count": null,
   "metadata": {},
   "outputs": [],
   "source": [
    "%%bash\n",
    "\n",
    "# run on terminal: sudo tcpdump -i lo -n port 161 -v\n",
    "snmpwalk -v 1 -c public localhost system"
   ]
  },
  {
   "cell_type": "markdown",
   "metadata": {},
   "source": [
    "## Other commands"
   ]
  },
  {
   "cell_type": "code",
   "execution_count": null,
   "metadata": {},
   "outputs": [],
   "source": [
    "%%bash\n",
    "\n",
    "snmptable -v 1 -c public localhost ifTable"
   ]
  },
  {
   "cell_type": "code",
   "execution_count": null,
   "metadata": {},
   "outputs": [],
   "source": [
    "%%bash\n",
    "\n",
    "snmpdelta -v 1 -c public -Cs -CT localhost sysUpTime.0"
   ]
  },
  {
   "cell_type": "code",
   "execution_count": null,
   "metadata": {},
   "outputs": [],
   "source": [
    "%%bash\n",
    "\n",
    "killall snmpdelta"
   ]
  },
  {
   "cell_type": "markdown",
   "metadata": {},
   "source": [
    "## Exercícios - SNMPv1"
   ]
  },
  {
   "cell_type": "markdown",
   "metadata": {},
   "source": [
    "a) obter o endereço físico (MAC) da 2a. interface de rede da tabela ifTable"
   ]
  },
  {
   "cell_type": "code",
   "execution_count": null,
   "metadata": {},
   "outputs": [],
   "source": [
    "%%bash\n",
    "\n",
    "snmpget -v 1 -c public localhost ifPhysAddress.2"
   ]
  },
  {
   "cell_type": "markdown",
   "metadata": {},
   "source": [
    "b) obter o número de mensagens ICMP enviadas e recebidas pelo elemento gerenciado"
   ]
  },
  {
   "cell_type": "code",
   "execution_count": null,
   "metadata": {},
   "outputs": [],
   "source": [
    "%%bash\n",
    "\n",
    "snmpget -v 1 -c public localhost icmpInMsgs.0 icmpOutMsgs.0"
   ]
  },
  {
   "cell_type": "markdown",
   "metadata": {},
   "source": [
    "c) obter o número de requisições GET recebidos pelo agente no elemento gerenciado."
   ]
  },
  {
   "cell_type": "code",
   "execution_count": null,
   "metadata": {},
   "outputs": [],
   "source": [
    "%%bash\n",
    "\n",
    "snmpget -v 1 -c public localhost snmpInGetRequests.0"
   ]
  },
  {
   "cell_type": "markdown",
   "metadata": {},
   "source": [
    "d) modificar o nome do elemento gerenciado para \"Gerencia\""
   ]
  },
  {
   "cell_type": "code",
   "execution_count": null,
   "metadata": {},
   "outputs": [],
   "source": [
    "%%bash\n",
    "\n",
    "snmpset -v 1 -c private localhost sysName.0 s \"Gerencia\""
   ]
  },
  {
   "cell_type": "markdown",
   "metadata": {},
   "source": [
    "e) modificar a identificação da localização do elemento gerenciado para \"LabRedes\""
   ]
  },
  {
   "cell_type": "code",
   "execution_count": null,
   "metadata": {},
   "outputs": [],
   "source": [
    "%%bash\n",
    "\n",
    "snmpset -v 1 -c private localhost sysLocation.0 s \"LabRedes\""
   ]
  },
  {
   "cell_type": "markdown",
   "metadata": {},
   "source": [
    "f) obter a descrição da interface localizada na 1a. linha da tabela ifTable"
   ]
  },
  {
   "cell_type": "code",
   "execution_count": null,
   "metadata": {},
   "outputs": [],
   "source": [
    "%%bash\n",
    "\n",
    "snmpgetnext -v 1 -c public localhost ifDescr"
   ]
  },
  {
   "cell_type": "markdown",
   "metadata": {},
   "source": [
    "g) obter o endereço IP, índice da interface na tabela ifTable, máscara de rede e endereço de broadcast da primeira entrada da tabela ipAddrEntry"
   ]
  },
  {
   "cell_type": "code",
   "execution_count": null,
   "metadata": {},
   "outputs": [],
   "source": [
    "%%bash\n",
    "\n",
    "snmpgetnext -v 1 -c public localhost ipAdEntIfIndex ipAdEntNetMask ipAdEntBcastAddr"
   ]
  },
  {
   "cell_type": "markdown",
   "metadata": {},
   "source": [
    "h) obter o endereço local e porta local da primeira linha da tabela udpTable"
   ]
  },
  {
   "cell_type": "code",
   "execution_count": null,
   "metadata": {},
   "outputs": [],
   "source": [
    "%%bash\n",
    "\n",
    "snmpgetnext -v 1 -c public localhost udpLocalPort udpLocalAddress"
   ]
  },
  {
   "cell_type": "markdown",
   "metadata": {},
   "source": [
    "## Using snmpbulkget"
   ]
  },
  {
   "cell_type": "code",
   "execution_count": null,
   "metadata": {},
   "outputs": [],
   "source": [
    "%%bash\n",
    "\n",
    "snmpbulkget -v2c -c public localhost -Cn2 -Cr3 system interfaces ifIndex ifDescr ifSpeed"
   ]
  },
  {
   "cell_type": "code",
   "execution_count": null,
   "metadata": {},
   "outputs": [],
   "source": [
    "%%bash\n",
    "\n",
    "snmpbulkget -v2c -c public localhost -Cn4 -Cr5 tcpInSegs tcpOutSegs tcpRetransSegs tcpInErrs tcpConnState tcpConnLocalAddress tcpConnLocalPort tcpConnRemAddress tcpConnRemPort"
   ]
  },
  {
   "cell_type": "code",
   "execution_count": null,
   "metadata": {},
   "outputs": [],
   "source": [
    "%%bash\n",
    "\n",
    "snmpbulkget -v2c -c public localhost -Cn0 -Cr4 udpLocalAddress udpLocalPort"
   ]
  },
  {
   "cell_type": "markdown",
   "metadata": {},
   "source": [
    "## Comparing snmpwalk vs snmpbulkwalk\n",
    "\n"
   ]
  },
  {
   "cell_type": "code",
   "execution_count": null,
   "metadata": {},
   "outputs": [],
   "source": [
    "%%bash\n",
    "\n",
    "# run on terminal: sudo tcpdump -i lo -n port 161 -v\n",
    "# snmpwalk -v 1 -c public localhost system\n",
    "\n",
    "snmpbulkwalk -v 2c -c public localhost system"
   ]
  },
  {
   "cell_type": "markdown",
   "metadata": {},
   "source": [
    "# Example using pass directive"
   ]
  },
  {
   "cell_type": "markdown",
   "metadata": {},
   "source": [
    "## Rewrite snmpd.conf and restart agent"
   ]
  },
  {
   "cell_type": "code",
   "execution_count": null,
   "metadata": {},
   "outputs": [],
   "source": [
    "%%bash\n",
    "\n",
    "# Add pass directive to snmpd.conf\n",
    "sudo tee /etc/snmp/snmpd.conf > /dev/null <<EOF\n",
    "rocommunity public\n",
    "rwcommunity private\n",
    "\n",
    "pass .1.3.6.1.3.1234.1 /usr/bin/python3 /tmp/agent.py\n",
    "EOF\n",
    "\n",
    "# Restart agent - Linux\n",
    "sudo service snmpd restart\n",
    "sudo service snmpd status\n",
    "\n",
    "# Restart agent - Mac\n",
    "# sudo launchctl unload /System/Library/LaunchDaemons/org.net-snmp.snmpd.plist\n",
    "# sudo launchctl load -w /System/Library/LaunchDaemons/org.net-snmp.snmpd.plist"
   ]
  },
  {
   "cell_type": "markdown",
   "metadata": {},
   "source": [
    "## Agent code"
   ]
  },
  {
   "cell_type": "code",
   "execution_count": null,
   "metadata": {},
   "outputs": [],
   "source": [
    "%%writefile /tmp/agent.py\n",
    "\n",
    "import sys\n",
    "import datetime\n",
    "import socket\n",
    "import os\n",
    "\n",
    "def get_current_datetime():\n",
    "    now = datetime.datetime.now()\n",
    "    return now.strftime(\"%Y-%m-%d %H:%M:%S\")\n",
    "\n",
    "def get_hostname():\n",
    "    hostname = socket.gethostname()\n",
    "    return hostname\n",
    "\n",
    "def get_file_content():\n",
    "    filepath = '/tmp/myfile.txt'\n",
    "    if not os.path.exists(filepath):\n",
    "        with open(filepath, 'w') as f:\n",
    "            f.write(\"initial\")\n",
    "        return \"initial\"\n",
    "    with open(filepath, 'r') as f:\n",
    "        return f.read()\n",
    "\n",
    "def set_file_content(new_content):\n",
    "    filepath = '/tmp/myfile.txt'\n",
    "    with open(filepath, 'w') as f:\n",
    "        f.write(new_content)\n",
    "    return new_content\n",
    "\n",
    "def main():\n",
    "\n",
    "    with open(\"/tmp/agent.log\", 'a') as file:\n",
    "        file.write(' '.join(sys.argv) + '\\n')\n",
    "\n",
    "    if len(sys.argv) < 3:\n",
    "        print(\"Usage: agent.py <request-type> <MIB-oid> [type] [<new-value>]\")\n",
    "        return\n",
    "\n",
    "    request_type = sys.argv[1]\n",
    "    oid = sys.argv[2]\n",
    "\n",
    "    if request_type == \"-g\":  # GET request\n",
    "        if oid == \".1.3.6.1.3.1234.1.1.0\":\n",
    "            print(\".1.3.6.1.3.1234.1.1.0\")\n",
    "            print(\"string\")\n",
    "            print(get_current_datetime())\n",
    "        elif oid == \".1.3.6.1.3.1234.1.2.0\":\n",
    "            print(\".1.3.6.1.3.1234.1.2.0\")\n",
    "            print(\"string\")\n",
    "            print(get_hostname())\n",
    "        elif oid == \".1.3.6.1.3.1234.1.3.0\":\n",
    "            print(\".1.3.6.1.3.1234.1.3.0\")\n",
    "            print(\"string\")\n",
    "            print(get_file_content())\n",
    "        else:\n",
    "            print(\"NONE\")\n",
    "    elif request_type == \"-s\":  # SET request\n",
    "        if oid == \".1.3.6.1.3.1234.1.3.0\" and len(sys.argv) == 5:\n",
    "            new_content = sys.argv[4]\n",
    "            print(\".1.3.6.1.3.1234.1.3.0\")\n",
    "            print(\"string\")\n",
    "            print(set_file_content(new_content))\n",
    "        else:\n",
    "            print(\"NONE\")\n",
    "    else:\n",
    "        print(\"NONE\")\n",
    "\n",
    "if __name__ == \"__main__\":\n",
    "    main()"
   ]
  },
  {
   "cell_type": "markdown",
   "metadata": {},
   "source": [
    "## Testing get and set"
   ]
  },
  {
   "cell_type": "code",
   "execution_count": null,
   "metadata": {},
   "outputs": [],
   "source": [
    "%%bash\n",
    "\n",
    "snmpget -v2c -c public localhost .1.3.6.1.3.1234.1.1.0\n",
    "# snmpget -v2c -c public localhost .1.3.6.1.3.1234.1.2.0\n",
    "# snmpget -v2c -c public localhost .1.3.6.1.3.1234.1.3.0"
   ]
  },
  {
   "cell_type": "code",
   "execution_count": null,
   "metadata": {},
   "outputs": [],
   "source": [
    "%%bash\n",
    "\n",
    "snmpset -v2c -c private localhost .1.3.6.1.3.1234.1.3.0 s teste"
   ]
  },
  {
   "cell_type": "markdown",
   "metadata": {},
   "source": [
    "## Write MIB file"
   ]
  },
  {
   "cell_type": "code",
   "execution_count": null,
   "metadata": {},
   "outputs": [],
   "source": [
    "%%writefile MYMIB.txt\n",
    "\n",
    "MYMIB DEFINITIONS ::= BEGIN\n",
    "\n",
    "IMPORTS\n",
    "    OBJECT-GROUP FROM SNMPv2-CONF\n",
    "    OBJECT-TYPE, experimental FROM SNMPv2-SMI\n",
    "    DisplayString FROM SNMPv2-TC;\n",
    "\n",
    "myMIB MODULE-IDENTITY\n",
    "    LAST-UPDATED \"202406290000Z\"\n",
    "    ORGANIZATION \"PUCRS\"\n",
    "    CONTACT-INFO \"admin@localhost\"\n",
    "    DESCRIPTION \"My MIB\"\n",
    "::= { experimental 1234 }\n",
    "\n",
    "myObjects OBJECT IDENTIFIER ::= { myMIB 1 }\n",
    "\n",
    "myCurrentDateTime OBJECT-TYPE\n",
    "    SYNTAX DisplayString\n",
    "    MAX-ACCESS read-only\n",
    "    STATUS current\n",
    "    DESCRIPTION \"Current Date and Time\"\n",
    "    ::= { myObjects 1 }\n",
    "\n",
    "myHostname OBJECT-TYPE\n",
    "    SYNTAX DisplayString\n",
    "    MAX-ACCESS read-only\n",
    "    STATUS current\n",
    "    DESCRIPTION \"Hostname\"\n",
    "    ::= { myObjects 2 }\n",
    "\n",
    "myFileContent OBJECT-TYPE\n",
    "    SYNTAX DisplayString\n",
    "    MAX-ACCESS read-write\n",
    "    STATUS current\n",
    "    DESCRIPTION \"File Content\"\n",
    "    ::= { myObjects 3 }\n",
    "\n",
    "END"
   ]
  },
  {
   "cell_type": "markdown",
   "metadata": {},
   "source": [
    "## Get and set using the MIB file"
   ]
  },
  {
   "cell_type": "code",
   "execution_count": null,
   "metadata": {},
   "outputs": [],
   "source": [
    "%%bash\n",
    "\n",
    "snmpget -v2c -c public -M +. -m +MYMIB localhost myCurrentDateTime.0\n",
    "snmpget -v2c -c public -M +. -m +MYMIB localhost myHostname.0\n",
    "snmpget -v2c -c public -M +. -m +MYMIB localhost myFileContent.0\n"
   ]
  },
  {
   "cell_type": "code",
   "execution_count": null,
   "metadata": {},
   "outputs": [],
   "source": [
    "%%bash\n",
    "\n",
    "snmpset -v2c -c private -M +. -m +MYMIB localhost myFileContent.0 s teste"
   ]
  },
  {
   "cell_type": "markdown",
   "metadata": {},
   "source": [
    "# Example using pass_ persist\n"
   ]
  },
  {
   "cell_type": "markdown",
   "metadata": {},
   "source": [
    "## Install scapy and configure python to capture packets"
   ]
  },
  {
   "cell_type": "code",
   "execution_count": null,
   "metadata": {},
   "outputs": [],
   "source": [
    "%%bash\n",
    "\n",
    "# Install scapy on local python3 installation (since we'll be using /usr/bin/python3 to call the agent inside snmpd.conf)\n",
    "sudo /usr/bin/pip3 install scapy\n",
    "\n",
    "# Give permission for /usr/bin/python3 to capture network packets\n",
    "sudo setcap cap_net_raw,cap_net_admin=eip $(realpath $(which /usr/bin/python3))"
   ]
  },
  {
   "cell_type": "markdown",
   "metadata": {},
   "source": [
    "## Rewrite snmpd.conf and restart agent"
   ]
  },
  {
   "cell_type": "code",
   "execution_count": null,
   "metadata": {},
   "outputs": [],
   "source": [
    "%%bash\n",
    "\n",
    "# Add pass directive to snmpd.conf\n",
    "sudo tee /etc/snmp/snmpd.conf > /dev/null <<EOF\n",
    "rocommunity public\n",
    "rwcommunity private\n",
    "\n",
    "pass_persist .1.3.6.1.2.1.16 /usr/bin/python3 /tmp/probe.py eth0\n",
    "EOF\n",
    "\n",
    "# Restart agent - Linux\n",
    "sudo service snmpd restart\n",
    "sudo service snmpd status\n",
    "\n",
    "# Restart agent - Mac\n",
    "# sudo launchctl unload /System/Library/LaunchDaemons/org.net-snmp.snmpd.plist\n",
    "# sudo launchctl load -w /System/Library/LaunchDaemons/org.net-snmp.snmpd.plist"
   ]
  },
  {
   "cell_type": "markdown",
   "metadata": {},
   "source": [
    "## Probe code"
   ]
  },
  {
   "cell_type": "code",
   "execution_count": null,
   "metadata": {},
   "outputs": [],
   "source": [
    "%%writefile /tmp/probe.py\n",
    "\n",
    "import threading\n",
    "from scapy.all import sniff\n",
    "import time\n",
    "import sys\n",
    "import datetime\n",
    "import socket\n",
    "import os\n",
    "import logging\n",
    "\n",
    "# Configure logging\n",
    "logging.basicConfig(\n",
    "    filename='/tmp/log.txt',\n",
    "    level=logging.INFO,\n",
    "    format='%(asctime)s - %(levelname)s - %(message)s'\n",
    ")\n",
    "\n",
    "# Shared variable to store the packet count\n",
    "packet_count = 0\n",
    "# Lock for thread-safe access to shared variable\n",
    "count_lock = threading.Lock()\n",
    "\n",
    "# Function to handle each sniffed packet\n",
    "def packet_handler(packet):\n",
    "    global packet_count\n",
    "    with count_lock:\n",
    "        packet_count += 1\n",
    "        # logging.info(f\"Packet received. Total count: {packet_count}\")\n",
    "\n",
    "# Sniffer thread function\n",
    "def packet_sniffer(interface):\n",
    "    logging.info(f\"Starting packet sniffer on interface: {interface}\")\n",
    "    try:\n",
    "        sniff(prn=packet_handler, iface=interface, store=False, promisc=True)\n",
    "    except Exception as e:\n",
    "        logging.error(f\"Error in packet sniffer: {e}\")\n",
    "\n",
    "def main():\n",
    "    logging.info(\"Program started\")\n",
    "    interface = sys.argv[1]\n",
    "    logging.info(f\"Interface provided: {interface}\")\n",
    "\n",
    "    # Create and start the sniffer thread\n",
    "    sniffer_thread = threading.Thread(target=packet_sniffer, args=(interface,))\n",
    "    sniffer_thread.daemon = True  # This makes the thread exit when the main program exits\n",
    "    sniffer_thread.start()\n",
    "    logging.info(\"Sniffer thread started\")\n",
    "\n",
    "    while True:\n",
    "        try:\n",
    "            line = sys.stdin.readline()\n",
    "            if not line:\n",
    "                raise EOFError()\n",
    "            line = line.strip()\n",
    "            \n",
    "            if 'PING' in line:\n",
    "                logging.info(\"Received PING command\")\n",
    "                print(\"PONG\")\n",
    "            elif not line: # if line is empty then continue\n",
    "                continue\n",
    "            elif 'get' in line:\n",
    "                logging.info(\"Received get command\")\n",
    "                oid = sys.stdin.readline()\n",
    "                oid = oid.strip()\n",
    "                logging.info(f\"OID received: {oid}\")\n",
    "                if oid.startswith(\".1.3.6.1.2.1.16.1.1.1.1\"): # etherStatsIndex\n",
    "                    logging.info(\"Valid OID received\")\n",
    "                    instanceid = oid.split('.')[-1]\n",
    "                    print(oid)\n",
    "                    print(\"integer\")\n",
    "                    print(instanceid)\n",
    "                elif oid.startswith(\".1.3.6.1.2.1.16.1.1.1.5\"): # etherStatsPkts\n",
    "                    logging.info(\"Valid OID received\")\n",
    "                    print(oid)\n",
    "                    print(\"integer\")\n",
    "                    with count_lock:\n",
    "                        print(f\"{packet_count}\")\n",
    "                        logging.info(f\"Packet count returned: {packet_count}\")\n",
    "                elif oid.startswith(\".1.3.6.1.2.1.16.1.1.1.21\"): # etherStatsStatus\n",
    "                    logging.info(\"Valid OID received\")\n",
    "                    print(oid)\n",
    "                    print(\"integer\")\n",
    "                    print(\"1\") # valid\n",
    "                else:\n",
    "                    logging.warning(\"Invalid OID received\")\n",
    "                    print(\"NONE\")\n",
    "            elif 'set' in line:\n",
    "                logging.info(\"Received set command\")\n",
    "                oid = sys.stdin.readline()\n",
    "                oid = oid.strip()\n",
    "                value = sys.stdin.readline()\n",
    "                value = value.strip()\n",
    "                logging.info(f\"OID received: {oid}\")\n",
    "                logging.info(f\"Value received: {value}\")\n",
    "                print(\"DONE\")\n",
    "            else:\n",
    "                logging.warning(\"Unknown command received\")\n",
    "                print(\"NONE\")\n",
    "            sys.stdout.flush()\n",
    "        except EOFError:\n",
    "            logging.info(\"EOFError encountered, exiting main loop\")\n",
    "            break\n",
    "        except Exception as e:\n",
    "            logging.error(f\"Error in main loop: {e}\")\n",
    "\n",
    "if __name__ == \"__main__\":\n",
    "    main()\n"
   ]
  },
  {
   "cell_type": "code",
   "execution_count": null,
   "metadata": {},
   "outputs": [],
   "source": [
    "%%bash\n",
    "\n",
    "# Requesting etherStatsIndex, etherStatsPkts and etherStatsStatus for instance 1\n",
    "snmpget -v2c -c public localhost .1.3.6.1.2.1.16.1.1.1.1.1 .1.3.6.1.2.1.16.1.1.1.5.1 .1.3.6.1.2.1.16.1.1.1.21.1"
   ]
  },
  {
   "cell_type": "code",
   "execution_count": null,
   "metadata": {},
   "outputs": [],
   "source": [
    "%%bash\n",
    "\n",
    "# Creating new instance id 2 and settings etherStatsStatus to createRequest(2)\n",
    "snmpset -v2c -c private localhost .1.3.6.1.2.1.16.1.1.1.1.2 i 2 .1.3.6.1.2.1.16.1.1.1.21.2 i 2\n"
   ]
  },
  {
   "cell_type": "code",
   "execution_count": null,
   "metadata": {},
   "outputs": [],
   "source": []
  }
 ],
 "metadata": {
  "kernelspec": {
   "display_name": "Python 3",
   "language": "python",
   "name": "python3"
  },
  "language_info": {
   "codemirror_mode": {
    "name": "ipython",
    "version": 3
   },
   "file_extension": ".py",
   "mimetype": "text/x-python",
   "name": "python",
   "nbconvert_exporter": "python",
   "pygments_lexer": "ipython3",
   "version": "3.12.1"
  }
 },
 "nbformat": 4,
 "nbformat_minor": 2
}
