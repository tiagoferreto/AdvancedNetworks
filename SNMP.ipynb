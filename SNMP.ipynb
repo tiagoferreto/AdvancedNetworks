{
 "cells": [
  {
   "cell_type": "markdown",
   "metadata": {},
   "source": [
    "# SNMP - Simple Network Management Protocol\n",
    "\n",
    "## Install snmpd tools, agent and mibs"
   ]
  },
  {
   "cell_type": "code",
   "execution_count": 1,
   "metadata": {},
   "outputs": [
    {
     "name": "stderr",
     "output_type": "stream",
     "text": [
      "\n",
      "WARNING: apt does not have a stable CLI interface. Use with caution in scripts.\n",
      "\n"
     ]
    },
    {
     "name": "stdout",
     "output_type": "stream",
     "text": [
      "Get:1 https://dl.yarnpkg.com/debian stable InRelease [17.1 kB]\n",
      "Hit:2 https://repo.anaconda.com/pkgs/misc/debrepo/conda stable InRelease\n",
      "Hit:3 http://security.ubuntu.com/ubuntu focal-security InRelease\n",
      "Hit:4 http://archive.ubuntu.com/ubuntu focal InRelease\n",
      "Hit:5 http://archive.ubuntu.com/ubuntu focal-updates InRelease\n",
      "Get:6 https://packages.microsoft.com/repos/microsoft-ubuntu-focal-prod focal InRelease [3632 B]\n",
      "Hit:7 http://archive.ubuntu.com/ubuntu focal-backports InRelease\n",
      "Hit:8 https://packagecloud.io/github/git-lfs/ubuntu focal InRelease\n",
      "Fetched 20.8 kB in 1s (17.5 kB/s)\n",
      "Reading package lists...\n",
      "Building dependency tree...\n",
      "Reading state information...\n",
      "19 packages can be upgraded. Run 'apt list --upgradable' to see them.\n"
     ]
    },
    {
     "name": "stderr",
     "output_type": "stream",
     "text": [
      "\n",
      "WARNING: apt does not have a stable CLI interface. Use with caution in scripts.\n",
      "\n"
     ]
    },
    {
     "name": "stdout",
     "output_type": "stream",
     "text": [
      "Reading package lists...\n",
      "Building dependency tree...\n",
      "Reading state information...\n",
      "The following additional packages will be installed:\n",
      "  libpci3 libsensors-config libsensors5 libsnmp-base libsnmp35 pci.ids\n",
      "  smistrip\n",
      "Suggested packages:\n",
      "  lm-sensors snmptrapd\n",
      "The following NEW packages will be installed:\n",
      "  libpci3 libsensors-config libsensors5 libsnmp-base libsnmp35 pci.ids\n",
      "  smistrip snmp snmp-mibs-downloader snmpd\n",
      "0 upgraded, 10 newly installed, 0 to remove and 19 not upgraded.\n",
      "Need to get 6854 kB of archives.\n",
      "After this operation, 12.1 MB of additional disk space will be used.\n",
      "Get:1 http://archive.ubuntu.com/ubuntu focal/main amd64 pci.ids all 0.0~2020.03.20-1 [217 kB]\n",
      "Get:2 http://archive.ubuntu.com/ubuntu focal-updates/main amd64 libpci3 amd64 1:3.6.4-1ubuntu0.20.04.1 [26.9 kB]\n",
      "Get:3 http://archive.ubuntu.com/ubuntu focal-updates/main amd64 libsensors-config all 1:3.6.0-2ubuntu1.1 [6052 B]\n",
      "Get:4 http://archive.ubuntu.com/ubuntu focal-updates/main amd64 libsensors5 amd64 1:3.6.0-2ubuntu1.1 [27.2 kB]\n",
      "Get:5 http://archive.ubuntu.com/ubuntu focal-updates/main amd64 libsnmp-base all 5.8+dfsg-2ubuntu2.9 [205 kB]\n",
      "Get:6 http://archive.ubuntu.com/ubuntu focal-updates/main amd64 libsnmp35 amd64 5.8+dfsg-2ubuntu2.9 [978 kB]\n",
      "Get:7 http://archive.ubuntu.com/ubuntu focal-updates/main amd64 snmpd amd64 5.8+dfsg-2ubuntu2.9 [56.4 kB]\n",
      "Get:8 http://archive.ubuntu.com/ubuntu focal/universe amd64 smistrip all 0.4.8+dfsg2-16 [7904 B]\n",
      "Get:9 http://archive.ubuntu.com/ubuntu focal-updates/main amd64 snmp amd64 5.8+dfsg-2ubuntu2.9 [167 kB]\n",
      "Get:10 http://archive.ubuntu.com/ubuntu focal/multiverse amd64 snmp-mibs-downloader all 1.2 [5162 kB]\n"
     ]
    },
    {
     "name": "stderr",
     "output_type": "stream",
     "text": [
      "dpkg-preconfigure: unable to re-open stdin: No such file or directory\n"
     ]
    },
    {
     "name": "stdout",
     "output_type": "stream",
     "text": [
      "Fetched 6854 kB in 16s (440 kB/s)\n",
      "Selecting previously unselected package pci.ids.\n",
      "(Reading database ... 70090 files and directories currently installed.)\n",
      "Preparing to unpack .../0-pci.ids_0.0~2020.03.20-1_all.deb ...\n",
      "Unpacking pci.ids (0.0~2020.03.20-1) ...\n",
      "Selecting previously unselected package libpci3:amd64.\n",
      "Preparing to unpack .../1-libpci3_1%3a3.6.4-1ubuntu0.20.04.1_amd64.deb ...\n",
      "Unpacking libpci3:amd64 (1:3.6.4-1ubuntu0.20.04.1) ...\n",
      "Selecting previously unselected package libsensors-config.\n",
      "Preparing to unpack .../2-libsensors-config_1%3a3.6.0-2ubuntu1.1_all.deb ...\n",
      "Unpacking libsensors-config (1:3.6.0-2ubuntu1.1) ...\n",
      "Selecting previously unselected package libsensors5:amd64.\n",
      "Preparing to unpack .../3-libsensors5_1%3a3.6.0-2ubuntu1.1_amd64.deb ...\n",
      "Unpacking libsensors5:amd64 (1:3.6.0-2ubuntu1.1) ...\n",
      "Selecting previously unselected package libsnmp-base.\n",
      "Preparing to unpack .../4-libsnmp-base_5.8+dfsg-2ubuntu2.9_all.deb ...\n",
      "Unpacking libsnmp-base (5.8+dfsg-2ubuntu2.9) ...\n",
      "Selecting previously unselected package libsnmp35:amd64.\n",
      "Preparing to unpack .../5-libsnmp35_5.8+dfsg-2ubuntu2.9_amd64.deb ...\n",
      "Unpacking libsnmp35:amd64 (5.8+dfsg-2ubuntu2.9) ...\n",
      "Selecting previously unselected package snmpd.\n",
      "Preparing to unpack .../6-snmpd_5.8+dfsg-2ubuntu2.9_amd64.deb ...\n",
      "Unpacking snmpd (5.8+dfsg-2ubuntu2.9) ...\n",
      "Selecting previously unselected package smistrip.\n",
      "Preparing to unpack .../7-smistrip_0.4.8+dfsg2-16_all.deb ...\n",
      "Unpacking smistrip (0.4.8+dfsg2-16) ...\n",
      "Selecting previously unselected package snmp.\n",
      "Preparing to unpack .../8-snmp_5.8+dfsg-2ubuntu2.9_amd64.deb ...\n",
      "Unpacking snmp (5.8+dfsg-2ubuntu2.9) ...\n",
      "Selecting previously unselected package snmp-mibs-downloader.\n",
      "Preparing to unpack .../9-snmp-mibs-downloader_1.2_all.deb ...\n",
      "Unpacking snmp-mibs-downloader (1.2) ...\n",
      "Setting up pci.ids (0.0~2020.03.20-1) ...\n",
      "Setting up libsnmp-base (5.8+dfsg-2ubuntu2.9) ...\n",
      "Setting up libsensors-config (1:3.6.0-2ubuntu1.1) ...\n",
      "Setting up smistrip (0.4.8+dfsg2-16) ...\n",
      "Setting up snmp-mibs-downloader (1.2) ...\n",
      "\n",
      "Downloading documents and extracting MIB files.\n",
      "This will take some minutes.\n",
      "\n",
      "In case this process fails, it can always be repeated later by executing\n",
      "/usr/bin/download-mibs again.\n",
      "\n",
      "RFC1155-SMI: 119 lines.\n",
      "RFC1213-MIB: 2613 lines.\n",
      "NOTE: SMUX: ignored.\n",
      "SMUX-MIB: 158 lines.\n",
      "CLNS-MIB: 1294 lines.\n",
      "RFC1381-MIB: 1007 lines.\n",
      "RFC1382-MIB: 2627 lines.\n",
      "RFC1414-MIB: 131 lines.\n",
      "SNMPv2-PARTY-MIB: 1410 lines.\n",
      "SNMPv2-M2M-MIB: 807 lines.\n",
      "MIOX25-MIB: 708 lines.\n",
      "PPP-LCP-MIB: 764 lines.\n",
      "PPP-SEC-MIB: 289 lines.\n",
      "PPP-IP-NCP-MIB: 203 lines.\n",
      "PPP-BRIDGE-NCP-MIB: 429 lines.\n",
      "FDDI-SMT73-MIB: 2126 lines.\n",
      "TOKEN-RING-RMON-MIB: 2302 lines.\n",
      "SOURCE-ROUTING-MIB: 450 lines.\n",
      "DECNET-PHIV-MIB: 3030 lines.\n",
      "DSA-MIB: 642 lines.\n",
      "DPI20-MIB: 47 lines.\n",
      "IBM-6611-APPN-MIB: 5112 lines.\n",
      "DNS-SERVER-MIB: 1078 lines.\n",
      "DNS-RESOLVER-MIB: 1196 lines.\n",
      "UPS-MIB: 1899 lines.\n",
      "CHARACTER-MIB: 646 lines.\n",
      "RS-232-MIB: 788 lines.\n",
      "PARALLEL-MIB: 286 lines.\n",
      "SNA-NAU-MIB: 2765 lines.\n",
      "SIP-MIB: 1099 lines.\n",
      "Modem-MIB: 1340 lines.\n",
      "RDBMS-MIB: 1377 lines.\n",
      "RIPv2-MIB: 532 lines.\n",
      "APPLETALK-MIB: 3398 lines.\n",
      "SNA-SDLC-MIB: 2761 lines.\n",
      "TOKENRING-MIB: 836 lines.\n",
      "TOKENRING-STATION-SR-MIB: 175 lines.\n",
      "TCPIPX-MIB: 331 lines.\n",
      "SNMPv2-USEC-MIB: 238 lines.\n",
      "MIP-MIB: 2127 lines.\n",
      "DOT12-IF-MIB: 772 lines.\n",
      "DLSW-MIB: 3560 lines.\n",
      "APPC-MIB: 5104 lines.\n",
      "SNMP-REPEATER-MIB: 3265 lines.\n",
      "FRAME-RELAY-DTE-MIB: 992 lines.\n",
      "ISDN-MIB: 1260 lines.\n",
      "DIAL-CONTROL-MIB: 1270 lines.\n",
      "RSVP-MIB: 2660 lines.\n",
      "INTEGRATED-SERVICES-MIB: 750 lines.\n",
      "INTEGRATED-SERVICES-GUARANTEED-MIB: 218 lines.\n",
      "APPN-DLUR-MIB: 632 lines.\n",
      "HPR-MIB: 1270 lines.\n",
      "DOT12-RPTR-MIB: 1978 lines.\n",
      "SYSAPPL-MIB: 1539 lines.\n",
      "IPOA-MIB: 1654 lines.\n",
      "IPATM-IPMC-MIB: 3244 lines.\n",
      "IPV6-TCP-MIB: 211 lines.\n",
      "IPV6-UDP-MIB: 141 lines.\n",
      "APPN-MIB: 5611 lines.\n",
      "APPN-TRAP-MIB: 477 lines.\n",
      "EBN-MIB: 702 lines.\n",
      "IPV6-TC: 67 lines.\n",
      "IPV6-MIB: 1443 lines.\n",
      "IPV6-ICMP-MIB: 529 lines.\n",
      "DS0-MIB: 305 lines.\n",
      "DS0BUNDLE-MIB: 311 lines.\n",
      "ATM-ACCOUNTING-INFORMATION-MIB: 402 lines.\n",
      "ACCOUNTING-CONTROL-MIB: 768 lines.\n",
      "ATM-TC-MIB: 713 lines.\n",
      "ATM-MIB: 2995 lines.\n",
      "TN3270E-MIB: 1953 lines.\n",
      "TN3270E-RT-MIB: 896 lines.\n",
      "APPLICATION-MIB: 2995 lines.\n",
      "SNMPv2-SMI: 344 lines.\n",
      "NOTE: FIZBIN-MIB: ignored.\n",
      "SNMPv2-TC: 772 lines.\n",
      "SNMPv2-CONF: 322 lines.\n",
      "HPR-IP-MIB: 487 lines.\n",
      "WWW-MIB: 1272 lines.\n",
      "DIRECTORY-SERVER-MIB: 772 lines.\n",
      "SMON-MIB: 1254 lines.\n",
      "ADSL-TC-MIB: 113 lines.\n",
      "ADSL-LINE-MIB: 4328 lines.\n",
      "ETHER-CHIPSET-MIB: 532 lines.\n",
      "NHRP-MIB: 2596 lines.\n",
      "Job-Monitoring-MIB: 1652 lines.\n",
      "FLOW-METER-MIB: 1901 lines.\n",
      "AGENTX-MIB: 527 lines.\n",
      "SLAPM-MIB: 2842 lines.\n",
      "SNMP-USM-DH-OBJECTS-MIB: 532 lines.\n",
      "VRRP-MIB: 789 lines.\n",
      "NETWORK-SERVICES-MIB: 626 lines.\n",
      "MTA-MIB: 1226 lines.\n",
      "HOST-RESOURCES-MIB: 1540 lines.\n",
      "HOST-RESOURCES-TYPES: 389 lines.\n",
      "RMON-MIB: 3980 lines.\n",
      "FIBRE-CHANNEL-FE-MIB: 1781 lines.\n",
      "HCNUM-TC: 118 lines.\n",
      "IF-MIB: 1814 lines.\n",
      "IF-INVERTED-STACK-MIB: 149 lines.\n",
      "PTOPO-MIB: 804 lines.\n",
      "IPMROUTE-STD-MIB: 869 lines.\n",
      "IGMP-STD-MIB: 516 lines.\n",
      "PIM-MIB: 889 lines.\n",
      "COPS-CLIENT-MIB: 844 lines.\n",
      "FRNETSERV-MIB: 2479 lines.\n",
      "FR-ATM-PVC-SERVICE-IWF-MIB: 1066 lines.\n",
      "RTP-MIB: 981 lines.\n",
      "DISMAN-EVENT-MIB: 1882 lines.\n",
      "DISMAN-EXPRESSION-MIB: 1182 lines.\n",
      "NOTIFICATION-LOG-MIB: 753 lines.\n",
      "IPV6-MLD-MIB: 417 lines.\n",
      "FR-MFR-MIB: 888 lines.\n",
      "PINT-MIB: 573 lines.\n",
      "DOCS-BPI-MIB: 1569 lines.\n",
      "INTERFACETOPN-MIB: 1023 lines.\n",
      "DISMAN-SCRIPT-MIB: 1764 lines.\n",
      "SFLOW-MIB: 389 lines.\n",
      "CIRCUIT-IF-MIB: 369 lines.\n",
      "FRSLD-MIB: 1768 lines.\n",
      "DISMAN-SCHEDULE-MIB: 699 lines.\n",
      "HC-RMON-MIB: 3149 lines.\n",
      "DSMON-MIB: 4449 lines.\n",
      "DIFFSERV-DSCP-TC: 64 lines.\n",
      "DIFFSERV-MIB: 3514 lines.\n",
      "GSMP-MIB: 1582 lines.\n",
      "L2TP-MIB: 2664 lines.\n",
      "SNMP-FRAMEWORK-MIB: 526 lines.\n",
      "SNMP-MPD-MIB: 145 lines.\n",
      "NOTE: : ignored.\n",
      "SNMP-TARGET-MIB: 660 lines.\n",
      "SNMP-NOTIFICATION-MIB: 589 lines.\n",
      "SNMP-PROXY-MIB: 294 lines.\n",
      "NOTE: : ignored.\n",
      "SNMP-USER-BASED-SM-MIB: 912 lines.\n",
      "SNMP-VIEW-BASED-ACM-MIB: 830 lines.\n",
      "SNMPv2-PDU: 133 lines.\n",
      "SNMPv2-TM: 176 lines.\n",
      "SNMPv2-MIB: 854 lines.\n",
      "TRANSPORT-ADDRESS-MIB: 421 lines.\n",
      "ENTITY-SENSOR-MIB: 440 lines.\n",
      "HC-ALARM-MIB: 707 lines.\n",
      "ADSL-LINE-EXT-MIB: 1169 lines.\n",
      "APS-MIB: 1659 lines.\n",
      "MALLOC-MIB: 1364 lines.\n",
      "SNMP-COMMUNITY-MIB: 505 lines.\n",
      "OPT-IF-MIB: 6616 lines.\n",
      "SONET-MIB: 2360 lines.\n",
      "PerfHist-TC-MIB: 178 lines.\n",
      "IPV6-FLOW-LABEL-MIB: 58 lines.\n",
      "ATM2-MIB: 3220 lines.\n",
      "POWER-ETHERNET-MIB: 621 lines.\n",
      "EtherLike-MIB: 1862 lines.\n",
      "HC-PerfHist-TC-MIB: 222 lines.\n",
      "VDSL-LINE-MIB: 2844 lines.\n",
      "APM-MIB: 2127 lines.\n",
      "DIFFSERV-CONFIG-MIB: 243 lines.\n",
      "NOTE: IANA-PRINTER-MIB: ignored.\n",
      "Printer-MIB: 4389 lines.\n",
      "NOTE: IANA-FINISHER-MIB: ignored.\n",
      "Finisher-MIB: 869 lines.\n",
      "MPLS-TC-STD-MIB: 635 lines.\n",
      "MPLS-TE-STD-MIB: 2483 lines.\n",
      "MPLS-LSR-STD-MIB: 2106 lines.\n",
      "MPLS-FTN-STD-MIB: 1030 lines.\n",
      "MPLS-LDP-STD-MIB: 2408 lines.\n",
      "MPLS-LDP-ATM-STD-MIB: 757 lines.\n",
      "MPLS-LDP-FRAME-RELAY-STD-MIB: 641 lines.\n",
      "MPLS-LDP-GENERIC-STD-MIB: 321 lines.\n",
      "ROHC-MIB: 1133 lines.\n",
      "ROHC-UNCOMPRESSED-MIB: 197 lines.\n",
      "ROHC-RTP-MIB: 636 lines.\n",
      "SNMP-USM-AES-MIB: 62 lines.\n",
      "TRIP-TC-MIB: 132 lines.\n",
      "TRIP-MIB: 2007 lines.\n",
      "SCTP-MIB: 1342 lines.\n",
      "ALARM-MIB: 1127 lines.\n",
      "NOTE: IANA-ITU-ALARM-TC-MIB: ignored.\n",
      "ITU-ALARM-TC-MIB: 86 lines.\n",
      "ITU-ALARM-MIB: 486 lines.\n",
      "ARC-MIB: 396 lines.\n",
      "DS3-MIB: 1786 lines.\n",
      "TE-MIB: 1679 lines.\n",
      "INET-ADDRESS-MIB: 402 lines.\n",
      "NAT-MIB: 2391 lines.\n",
      "POLICY-BASED-MANAGEMENT-MIB: 2060 lines.\n",
      "TCP-MIB: 785 lines.\n",
      "DOCS-IETF-SUBMGT-MIB: 672 lines.\n",
      "FC-MGMT-MIB: 2205 lines.\n",
      "VDSL-LINE-EXT-SCM-MIB: 420 lines.\n",
      "VDSL-LINE-EXT-MCM-MIB: 662 lines.\n",
      "TUNNEL-MIB: 738 lines.\n",
      "UDP-MIB: 549 lines.\n",
      "DOCS-IETF-BPI2-MIB: 3451 lines.\n",
      "ENTITY-MIB: 1411 lines.\n",
      "SSPM-MIB: 1029 lines.\n",
      "TPM-MIB: 1916 lines.\n",
      "BRIDGE-MIB: 1472 lines.\n",
      "TE-LINK-STD-MIB: 1745 lines.\n",
      "VPN-TC-STD-MIB: 72 lines.\n",
      "ENTITY-STATE-TC-MIB: 169 lines.\n",
      "ENTITY-STATE-MIB: 332 lines.\n",
      "BGP4-MIB: 1232 lines.\n",
      "IP-FORWARD-MIB: 1277 lines.\n",
      "IP-MIB: 4993 lines.\n",
      "MOBILEIPV6-MIB: 3984 lines.\n",
      "RSTP-MIB: 306 lines.\n",
      "HDSL2-SHDSL-LINE-MIB: 2503 lines.\n",
      "DOCS-IETF-QOS-MIB: 3060 lines.\n",
      "P-BRIDGE-MIB: 1157 lines.\n",
      "Q-BRIDGE-MIB: 2367 lines.\n",
      "MPLS-LC-ATM-STD-MIB: 336 lines.\n",
      "MPLS-LC-FR-STD-MIB: 263 lines.\n",
      "IFCP-MGMT-MIB: 1015 lines.\n",
      "MPLS-L3VPN-STD-MIB: 1588 lines.\n",
      "FCIP-MGMT-MIB: 1037 lines.\n",
      "T11-FC-NAME-SERVER-MIB: 1136 lines.\n",
      "T11-TC-MIB: 67 lines.\n",
      "T11-FC-FABRIC-ADDR-MGR-MIB: 1241 lines.\n",
      "ISIS-MIB: 4317 lines.\n",
      "SCSI-MIB: 2758 lines.\n",
      "AGGREGATE-MIB: 477 lines.\n",
      "TIME-AGGREGATE-MIB: 375 lines.\n",
      "RMON2-MIB: 5711 lines.\n",
      "ISCSI-MIB: 3097 lines.\n",
      "IPS-AUTH-MIB: 1156 lines.\n",
      "DOCS-IF-MIB: 5291 lines.\n",
      "DOCS-IETF-CABLE-DEVICE-NOTIFICATION-MIB: 1453 lines.\n",
      "DISMAN-PING-MIB: 1561 lines.\n",
      "DISMAN-TRACEROUTE-MIB: 1850 lines.\n",
      "DISMAN-NSLOOKUP-MIB: 509 lines.\n",
      "MSDP-MIB: 1182 lines.\n",
      "T11-FC-ROUTE-MIB: 448 lines.\n",
      "T11-FC-FSPF-MIB: 1170 lines.\n",
      "LMP-MIB: 3185 lines.\n",
      "DOCS-CABLE-DEVICE-MIB: 3141 lines.\n",
      "RADIUS-AUTH-CLIENT-MIB: 710 lines.\n",
      "RADIUS-AUTH-SERVER-MIB: 774 lines.\n",
      "RADIUS-ACC-CLIENT-MIB: 638 lines.\n",
      "RADIUS-ACC-SERVER-MIB: 727 lines.\n",
      "RADIUS-DYNAUTH-CLIENT-MIB: 767 lines.\n",
      "RADIUS-DYNAUTH-SERVER-MIB: 699 lines.\n",
      "PKTC-IETF-MTA-MIB: 2081 lines.\n",
      "ADSL2-LINE-TC-MIB: 729 lines.\n",
      "ADSL2-LINE-MIB: 5476 lines.\n",
      "RAQMON-MIB: 1417 lines.\n",
      "RAQMON-RDS-MIB: 672 lines.\n",
      "T11-FC-VIRTUAL-FABRIC-MIB: 523 lines.\n",
      "OSPF-MIB: 4164 lines.\n",
      "OSPF-TRAP-MIB: 584 lines.\n",
      "SIP-TC-MIB: 177 lines.\n",
      "SIP-COMMON-MIB: 1913 lines.\n",
      "SIP-UA-MIB: 200 lines.\n",
      "SIP-SERVER-MIB: 869 lines.\n",
      "SNMP-IEEE802-TM-MIB: 40 lines.\n",
      "GMPLS-TC-STD-MIB: 124 lines.\n",
      "GMPLS-TE-STD-MIB: 1749 lines.\n",
      "NOTE: IANA-GMPLS-TC-MIB: ignored.\n",
      "GMPLS-LSR-STD-MIB: 503 lines.\n",
      "GMPLS-LABEL-STD-MIB: 689 lines.\n",
      "DS1-MIB: 3015 lines.\n",
      "IPSEC-SPD-MIB: 2682 lines.\n",
      "MAU-MIB: 1740 lines.\n",
      "NOTE: IANA-MAU-MIB: ignored.\n",
      "DOT3-EPON-MIB: 2532 lines.\n",
      "DOT3-OAM-MIB: 2115 lines.\n",
      "TCP-ESTATS-MIB: 2941 lines.\n",
      "T11-FC-FABRIC-CONFIG-SERVER-MIB: 1717 lines.\n",
      "T11-FC-FABRIC-LOCK-MIB: 490 lines.\n",
      "T11-FC-ZONE-SERVER-MIB: 2638 lines.\n",
      "ISNS-MIB: 3243 lines.\n",
      "T11-FC-RSCN-MIB: 751 lines.\n",
      "URI-TC-MIB: 133 lines.\n",
      "PIM-STD-MIB: 3746 lines.\n",
      "IF-CAP-STACK-MIB: 284 lines.\n",
      "EFM-CU-MIB: 2995 lines.\n",
      "UDPLITE-MIB: 513 lines.\n",
      "PKTC-IETF-SIG-MIB: 3021 lines.\n",
      "LANGTAG-TC-MIB: 56 lines.\n",
      "IPMCAST-MIB: 2391 lines.\n",
      "MIDCOM-MIB: 2260 lines.\n",
      "PIM-BSR-MIB: 699 lines.\n",
      "T11-FC-SP-TC-MIB: 637 lines.\n",
      "T11-FC-SP-AUTHENTICATION-MIB: 920 lines.\n",
      "T11-FC-SP-ZONING-MIB: 550 lines.\n",
      "T11-FC-SP-POLICY-MIB: 4274 lines.\n",
      "T11-FC-SP-SA-MIB: 2483 lines.\n",
      "SYSLOG-TC-MIB: 202 lines.\n",
      "PKTC-IETF-EVENT-MIB: 1163 lines.\n",
      "NEMO-MIB: 1739 lines.\n",
      "MGMD-STD-MIB: 1524 lines.\n",
      "RSERPOOL-MIB: 1439 lines.\n",
      "PW-TC-STD-MIB: 288 lines.\n",
      "SNMP-TSM-MIB: 234 lines.\n",
      "SNMP-SSH-TM-MIB: 329 lines.\n",
      "NOTE: IANA-PWE3-MIB: ignored.\n",
      "PW-STD-MIB: 2438 lines.\n",
      "PW-MPLS-STD-MIB: 914 lines.\n",
      "PW-ENET-STD-MIB: 491 lines.\n",
      "PW-TDM-MIB: 1336 lines.\n",
      "PW-ATM-MIB: 1205 lines.\n",
      "OSPFV3-MIB: 3951 lines.\n",
      "VDSL2-LINE-TC-MIB: 1479 lines.\n",
      "VDSL2-LINE-MIB: 7189 lines.\n",
      "SYSLOG-MSG-MIB: 598 lines.\n",
      "DVB-RCS-MIB: 3329 lines.\n",
      "FORCES-MIB: 391 lines.\n",
      "IPFIX-MIB: 1677 lines.\n",
      "NOTE: IPFIX-SELECTOR-MIB: ignored.\n",
      "CAPWAP-BASE-MIB: 2618 lines.\n",
      "CAPWAP-DOT11-MIB: 369 lines.\n",
      "patching file ADSL-LINE-MIB\n",
      "patching file DLSW-MIB\n",
      "patching file DSA-MIB\n",
      "patching file FDDI-SMT73-MIB\n",
      "patching file HPR-MIB\n",
      "patching file MIP-MIB\n",
      "patching file Modem-MIB\n",
      "patching file PPP-LCP-MIB\n",
      "patching file RDBMS-MIB\n",
      "patching file RFC1414-MIB\n",
      "patching file SNA-NAU-MIB\n",
      "patching file TCPIPX-MIB\n",
      "patching file UPS-MIB\n",
      "patching file SMUX-MIB\n",
      "patching file IPATM-IPMC-MIB\n",
      "IANA-PWE3-MIB: 137 lines.\n",
      "NOTE: PW-STD-MIB: ignored.\n",
      "NOTE: IPFIX-MIB: ignored.\n",
      "IPFIX-SELECTOR-MIB: 173 lines.\n",
      "IANAifType-MIB: 685 lines.\n",
      "IANA-LANGUAGE-MIB: 126 lines.\n",
      "IANA-ADDRESS-FAMILY-NUMBERS-MIB: 170 lines.\n",
      "IANA-RTPROTO-MIB: 102 lines.\n",
      "IANATn3270eTC-MIB: 303 lines.\n",
      "IANA-MALLOC-MIB: 69 lines.\n",
      "IANA-CHARSET-MIB: 361 lines.\n",
      "IANA-PRINTER-MIB: 2111 lines.\n",
      "IANA-FINISHER-MIB: 286 lines.\n",
      "IANA-ITU-ALARM-TC-MIB: 335 lines.\n",
      "IANA-GMPLS-TC-MIB: 359 lines.\n",
      "IANA-IPPM-METRICS-REGISTRY-MIB: 818 lines.\n",
      "IANA-MAU-MIB: 984 lines.\n",
      "Setting up libsensors5:amd64 (1:3.6.0-2ubuntu1.1) ...\n",
      "Setting up libpci3:amd64 (1:3.6.4-1ubuntu0.20.04.1) ...\n",
      "Setting up libsnmp35:amd64 (5.8+dfsg-2ubuntu2.9) ...\n",
      "Setting up snmp (5.8+dfsg-2ubuntu2.9) ...\n",
      "Setting up snmpd (5.8+dfsg-2ubuntu2.9) ...\n",
      "adduser: Warning: The home directory `/var/lib/snmp' does not belong to the user you are currently creating.\n",
      "invoke-rc.d: could not determine current runlevel\n",
      "invoke-rc.d: policy-rc.d denied execution of start.\n",
      "Created symlink /etc/systemd/system/multi-user.target.wants/snmpd.service → /lib/systemd/system/snmpd.service.\n",
      "Processing triggers for libc-bin (2.31-0ubuntu9.16) ...\n",
      "Processing triggers for systemd (245.4-4ubuntu3.23) ...\n",
      "Processing triggers for man-db (2.9.1-1) ...\n"
     ]
    }
   ],
   "source": [
    "%%bash\n",
    "\n",
    "sudo apt update\n",
    "sudo apt install -y snmp snmpd snmp-mibs-downloader"
   ]
  },
  {
   "cell_type": "markdown",
   "metadata": {},
   "source": [
    "## Configure agent configuration file (/etc/snmp/snmpd.conf) and snmp tools configuration file (/etc/snmp/snmp.conf)"
   ]
  },
  {
   "cell_type": "code",
   "execution_count": 2,
   "metadata": {},
   "outputs": [],
   "source": [
    "%%bash\n",
    "\n",
    "sudo mv /etc/snmp/snmpd.conf /etc/snmp/snmpd.conf.old\n",
    "\n",
    "sudo tee /etc/snmp/snmpd.conf > /dev/null <<EOF\n",
    "rocommunity public\n",
    "rwcommunity private\n",
    "EOF\n",
    "\n",
    "sudo sed -i '/mibs :/s/^/#/' /etc/snmp/snmp.conf"
   ]
  },
  {
   "cell_type": "markdown",
   "metadata": {},
   "source": [
    "## Start snmpd daemon (agent)"
   ]
  },
  {
   "cell_type": "code",
   "execution_count": 3,
   "metadata": {},
   "outputs": [
    {
     "name": "stdout",
     "output_type": "stream",
     "text": [
      " * snmpd is running\n"
     ]
    }
   ],
   "source": [
    "%%bash\n",
    "\n",
    "sudo service snmpd restart\n",
    "sudo service snmpd status"
   ]
  },
  {
   "cell_type": "markdown",
   "metadata": {},
   "source": [
    "## List all downloaded mibs"
   ]
  },
  {
   "cell_type": "code",
   "execution_count": 4,
   "metadata": {},
   "outputs": [
    {
     "name": "stdout",
     "output_type": "stream",
     "text": [
      "/usr/share/snmp/mibs:\n",
      "GNOME-SMI.txt\n",
      "LM-SENSORS-MIB.txt\n",
      "NET-SNMP-AGENT-MIB.txt\n",
      "NET-SNMP-EXAMPLES-MIB.txt\n",
      "NET-SNMP-EXTEND-MIB.txt\n",
      "NET-SNMP-MIB.txt\n",
      "NET-SNMP-MONITOR-MIB.txt\n",
      "NET-SNMP-PASS-MIB.txt\n",
      "NET-SNMP-PERIODIC-NOTIFY-MIB.txt\n",
      "NET-SNMP-SYSTEM-MIB.txt\n",
      "NET-SNMP-TC.txt\n",
      "NET-SNMP-VACM-MIB.txt\n",
      "UCD-DEMO-MIB.txt\n",
      "UCD-DISKIO-MIB.txt\n",
      "UCD-DLMOD-MIB.txt\n",
      "UCD-IPFILTER-MIB.txt\n",
      "UCD-IPFWACC-MIB.txt\n",
      "UCD-SNMP-MIB-OLD.txt\n",
      "UCD-SNMP-MIB.txt\n",
      "iana\n",
      "ietf\n"
     ]
    }
   ],
   "source": [
    "%%bash\n",
    "\n",
    "ls -R /usr/share/snmp/mibs"
   ]
  },
  {
   "cell_type": "markdown",
   "metadata": {},
   "source": [
    "## Show RFC1213 object tree"
   ]
  },
  {
   "cell_type": "code",
   "execution_count": null,
   "metadata": {},
   "outputs": [],
   "source": [
    "%%bash\n",
    "\n",
    "# Variables\n",
    "MIB=\"/usr/share/snmp/mibs/ietf/RFC1213-MIB\"\n",
    "\n",
    "snmptranslate -m $MIB -Tp"
   ]
  },
  {
   "cell_type": "markdown",
   "metadata": {},
   "source": [
    "## Show the description of a specific object"
   ]
  },
  {
   "cell_type": "code",
   "execution_count": null,
   "metadata": {},
   "outputs": [],
   "source": [
    "%%bash\n",
    "\n",
    "# Variables\n",
    "OBJECT=\"sysDescr\"\n",
    "MIB=\"/usr/share/snmp/mibs/ietf/RFC1213-MIB\"\n",
    "\n",
    "# Command to extract text from search_string to } excluding the }\n",
    "sed -n \"/$OBJECT OBJECT-TYPE/,/}/p\" $MIB"
   ]
  },
  {
   "cell_type": "markdown",
   "metadata": {},
   "source": [
    "## Using snmpget"
   ]
  },
  {
   "cell_type": "code",
   "execution_count": 10,
   "metadata": {},
   "outputs": [
    {
     "name": "stdout",
     "output_type": "stream",
     "text": [
      "SNMPv2-MIB::sysDescr.0 = STRING: Linux codespaces-29be28 6.5.0-1021-azure #22~22.04.1-Ubuntu SMP Tue Apr 30 16:08:18 UTC 2024 x86_64\n",
      "SNMPv2-MIB::sysContact.0 = STRING: admin@localhost\n"
     ]
    }
   ],
   "source": [
    "%%bash\n",
    "\n",
    "# snmpget -v <SNMP version> -c <community> <host> <obj1> <obj2> <obj3> \n",
    "\n",
    "snmpget -v 1 -c public localhost sysDescr.0 sysContact.0"
   ]
  },
  {
   "cell_type": "markdown",
   "metadata": {},
   "source": [
    "## Using snmpset"
   ]
  },
  {
   "cell_type": "code",
   "execution_count": 8,
   "metadata": {},
   "outputs": [
    {
     "name": "stdout",
     "output_type": "stream",
     "text": [
      "SNMPv2-MIB::sysContact.0 = STRING: admin@localhost\n",
      "SNMPv2-MIB::sysContact.0 = STRING: admin@localhost\n"
     ]
    }
   ],
   "source": [
    "%%bash\n",
    "\n",
    "snmpset -v 1 -c private localhost sysContact.0 s admin@localhost\n",
    "snmpget -v 1 -c public localhost sysContact.0"
   ]
  },
  {
   "cell_type": "markdown",
   "metadata": {},
   "source": [
    "## Using snmpgetnext"
   ]
  },
  {
   "cell_type": "code",
   "execution_count": 9,
   "metadata": {},
   "outputs": [
    {
     "name": "stdout",
     "output_type": "stream",
     "text": [
      "SNMPv2-MIB::sysDescr.0 = STRING: Linux codespaces-29be28 6.5.0-1021-azure #22~22.04.1-Ubuntu SMP Tue Apr 30 16:08:18 UTC 2024 x86_64\n",
      "IF-MIB::ifNumber.0 = INTEGER: 3\n"
     ]
    }
   ],
   "source": [
    "%%bash\n",
    "\n",
    "snmpgetnext -v 1 -c public localhost system interfaces"
   ]
  },
  {
   "cell_type": "markdown",
   "metadata": {},
   "source": [
    "## Using snmpwalk"
   ]
  },
  {
   "cell_type": "code",
   "execution_count": 11,
   "metadata": {},
   "outputs": [
    {
     "name": "stdout",
     "output_type": "stream",
     "text": [
      "SNMPv2-MIB::sysDescr.0 = STRING: Linux codespaces-29be28 6.5.0-1021-azure #22~22.04.1-Ubuntu SMP Tue Apr 30 16:08:18 UTC 2024 x86_64\n",
      "SNMPv2-MIB::sysObjectID.0 = OID: NET-SNMP-MIB::netSnmpAgentOIDs.10\n",
      "DISMAN-EVENT-MIB::sysUpTimeInstance = Timeticks: (44088) 0:07:20.88\n",
      "SNMPv2-MIB::sysContact.0 = STRING: admin@localhost\n",
      "SNMPv2-MIB::sysName.0 = STRING: codespaces-29be28\n",
      "SNMPv2-MIB::sysLocation.0 = STRING: Unknown\n",
      "SNMPv2-MIB::sysORLastChange.0 = Timeticks: (1) 0:00:00.01\n",
      "SNMPv2-MIB::sysORID.1 = OID: SNMP-FRAMEWORK-MIB::snmpFrameworkMIBCompliance\n",
      "SNMPv2-MIB::sysORID.2 = OID: SNMP-MPD-MIB::snmpMPDCompliance\n",
      "SNMPv2-MIB::sysORID.3 = OID: SNMP-USER-BASED-SM-MIB::usmMIBCompliance\n",
      "SNMPv2-MIB::sysORID.4 = OID: SNMPv2-MIB::snmpMIB\n",
      "SNMPv2-MIB::sysORID.5 = OID: SNMP-VIEW-BASED-ACM-MIB::vacmBasicGroup\n",
      "SNMPv2-MIB::sysORID.6 = OID: TCP-MIB::tcpMIB\n",
      "SNMPv2-MIB::sysORID.7 = OID: IP-MIB::ip\n",
      "SNMPv2-MIB::sysORID.8 = OID: UDP-MIB::udpMIB\n",
      "SNMPv2-MIB::sysORID.9 = OID: SNMP-NOTIFICATION-MIB::snmpNotifyFullCompliance\n",
      "SNMPv2-MIB::sysORID.10 = OID: NOTIFICATION-LOG-MIB::notificationLogMIB\n",
      "SNMPv2-MIB::sysORDescr.1 = STRING: The SNMP Management Architecture MIB.\n",
      "SNMPv2-MIB::sysORDescr.2 = STRING: The MIB for Message Processing and Dispatching.\n",
      "SNMPv2-MIB::sysORDescr.3 = STRING: The management information definitions for the SNMP User-based Security Model.\n",
      "SNMPv2-MIB::sysORDescr.4 = STRING: The MIB module for SNMPv2 entities\n",
      "SNMPv2-MIB::sysORDescr.5 = STRING: View-based Access Control Model for SNMP.\n",
      "SNMPv2-MIB::sysORDescr.6 = STRING: The MIB module for managing TCP implementations\n",
      "SNMPv2-MIB::sysORDescr.7 = STRING: The MIB module for managing IP and ICMP implementations\n",
      "SNMPv2-MIB::sysORDescr.8 = STRING: The MIB module for managing UDP implementations\n",
      "SNMPv2-MIB::sysORDescr.9 = STRING: The MIB modules for managing SNMP Notification, plus filtering.\n",
      "SNMPv2-MIB::sysORDescr.10 = STRING: The MIB module for logging SNMP Notifications.\n",
      "SNMPv2-MIB::sysORUpTime.1 = Timeticks: (1) 0:00:00.01\n",
      "SNMPv2-MIB::sysORUpTime.2 = Timeticks: (1) 0:00:00.01\n",
      "SNMPv2-MIB::sysORUpTime.3 = Timeticks: (1) 0:00:00.01\n",
      "SNMPv2-MIB::sysORUpTime.4 = Timeticks: (1) 0:00:00.01\n",
      "SNMPv2-MIB::sysORUpTime.5 = Timeticks: (1) 0:00:00.01\n",
      "SNMPv2-MIB::sysORUpTime.6 = Timeticks: (1) 0:00:00.01\n",
      "SNMPv2-MIB::sysORUpTime.7 = Timeticks: (1) 0:00:00.01\n",
      "SNMPv2-MIB::sysORUpTime.8 = Timeticks: (1) 0:00:00.01\n",
      "SNMPv2-MIB::sysORUpTime.9 = Timeticks: (1) 0:00:00.01\n",
      "SNMPv2-MIB::sysORUpTime.10 = Timeticks: (1) 0:00:00.01\n"
     ]
    }
   ],
   "source": [
    "%%bash\n",
    "\n",
    "# run on terminal: sudo tcpdump -i lo -n port 161 -v\n",
    "snmpwalk -v 1 -c public localhost system"
   ]
  },
  {
   "cell_type": "markdown",
   "metadata": {},
   "source": [
    "## Other commands"
   ]
  },
  {
   "cell_type": "code",
   "execution_count": 13,
   "metadata": {},
   "outputs": [
    {
     "name": "stdout",
     "output_type": "stream",
     "text": [
      "SNMP table: TCP-MIB::tcpConnTable\n",
      "\n",
      " tcpConnState tcpConnLocalAddress tcpConnLocalPort tcpConnRemAddress tcpConnRemPort\n",
      "       listen             0.0.0.0             2000           0.0.0.0              0\n",
      "       listen             0.0.0.0             2222           0.0.0.0              0\n",
      "       listen           127.0.0.1             9000           0.0.0.0              0\n",
      "       listen           127.0.0.1             9001           0.0.0.0              0\n",
      "  established           127.0.0.1             9001         127.0.0.1          50242\n",
      "       listen           127.0.0.1             9002           0.0.0.0              0\n",
      "  established           127.0.0.1             9002         127.0.0.1          55560\n",
      "  established           127.0.0.1             9002         127.0.0.1          55568\n",
      "       listen           127.0.0.1             9003           0.0.0.0              0\n",
      "  established           127.0.0.1             9003         127.0.0.1          34134\n",
      "       listen           127.0.0.1             9004           0.0.0.0              0\n",
      "  established           127.0.0.1             9004         127.0.0.1          47442\n",
      "       listen           127.0.0.1            16634           0.0.0.0              0\n",
      "       listen           127.0.0.1            16635           0.0.0.0              0\n",
      "  established           127.0.0.1            34134         127.0.0.1           9003\n",
      "       listen           127.0.0.1            35823           0.0.0.0              0\n",
      "       listen           127.0.0.1            38317           0.0.0.0              0\n",
      "       listen           127.0.0.1            44455           0.0.0.0              0\n",
      "  established           127.0.0.1            44455         127.0.0.1          48072\n",
      "  established           127.0.0.1            44455         127.0.0.1          48074\n",
      "  established           127.0.0.1            47442         127.0.0.1           9004\n",
      "  established           127.0.0.1            50242         127.0.0.1           9001\n",
      "  established           127.0.0.1            55560         127.0.0.1           9002\n",
      "  established           127.0.0.1            55568         127.0.0.1           9002\n",
      "       listen          127.0.0.53               53           0.0.0.0              0\n",
      "  established          172.16.5.4            37548     52.226.22.118            443\n",
      "  established          172.16.5.4            45718      20.60.181.37            445\n",
      "  established          172.16.5.4            55100     20.189.173.15            443\n"
     ]
    }
   ],
   "source": [
    "%%bash\n",
    "\n",
    "# snmptable -v 1 -c public localhost ifTable\n",
    "snmptable -v 1 -c public localhost tcpConnTable"
   ]
  },
  {
   "cell_type": "code",
   "execution_count": null,
   "metadata": {},
   "outputs": [],
   "source": [
    "%%bash\n",
    "\n",
    "snmpdelta -v 1 -c public -Cs -CT localhost sysUpTime.0"
   ]
  },
  {
   "cell_type": "code",
   "execution_count": null,
   "metadata": {},
   "outputs": [],
   "source": [
    "%%bash\n",
    "\n",
    "killall snmpdelta"
   ]
  },
  {
   "cell_type": "markdown",
   "metadata": {},
   "source": [
    "## Exercícios - SNMPv1"
   ]
  },
  {
   "cell_type": "markdown",
   "metadata": {},
   "source": [
    "a) obter o endereço físico (MAC) da 2a. interface de rede da tabela ifTable"
   ]
  },
  {
   "cell_type": "code",
   "execution_count": 16,
   "metadata": {},
   "outputs": [
    {
     "name": "stdout",
     "output_type": "stream",
     "text": [
      "IF-MIB::ifPhysAddress.2 = STRING: 60:45:bd:85:4c:27\n"
     ]
    }
   ],
   "source": [
    "%%bash\n",
    "\n",
    "snmpget -v 1 -c public localhost ifPhysAddress.2"
   ]
  },
  {
   "cell_type": "markdown",
   "metadata": {},
   "source": [
    "b) obter o número de mensagens ICMP enviadas e recebidas pelo elemento gerenciado"
   ]
  },
  {
   "cell_type": "code",
   "execution_count": 17,
   "metadata": {},
   "outputs": [
    {
     "name": "stdout",
     "output_type": "stream",
     "text": [
      "IP-MIB::icmpInMsgs.0 = Counter32: 11\n",
      "IP-MIB::icmpOutMsgs.0 = Counter32: 11\n"
     ]
    }
   ],
   "source": [
    "%%bash\n",
    "\n",
    "snmpget -v 1 -c public localhost icmpInMsgs.0 icmpOutMsgs.0"
   ]
  },
  {
   "cell_type": "markdown",
   "metadata": {},
   "source": [
    "c) obter o número de requisições GET recebidos pelo agente no elemento gerenciado."
   ]
  },
  {
   "cell_type": "code",
   "execution_count": 20,
   "metadata": {},
   "outputs": [
    {
     "name": "stdout",
     "output_type": "stream",
     "text": [
      "SNMPv2-MIB::snmpInGetRequests.0 = Counter32: 15\n"
     ]
    }
   ],
   "source": [
    "%%bash\n",
    "\n",
    "snmpget -v 1 -c public localhost snmpInGetRequests.0"
   ]
  },
  {
   "cell_type": "markdown",
   "metadata": {},
   "source": [
    "d) modificar o nome do elemento gerenciado para \"Gerencia\""
   ]
  },
  {
   "cell_type": "code",
   "execution_count": 21,
   "metadata": {},
   "outputs": [
    {
     "name": "stdout",
     "output_type": "stream",
     "text": [
      "SNMPv2-MIB::sysName.0 = STRING: Gerencia\n"
     ]
    }
   ],
   "source": [
    "%%bash\n",
    "\n",
    "snmpset -v 1 -c private localhost sysName.0 s \"Gerencia\""
   ]
  },
  {
   "cell_type": "markdown",
   "metadata": {},
   "source": [
    "e) modificar a identificação da localização do elemento gerenciado para \"LabRedes\""
   ]
  },
  {
   "cell_type": "code",
   "execution_count": 22,
   "metadata": {},
   "outputs": [
    {
     "name": "stdout",
     "output_type": "stream",
     "text": [
      "SNMPv2-MIB::sysLocation.0 = STRING: LabRedes\n"
     ]
    }
   ],
   "source": [
    "%%bash\n",
    "\n",
    "snmpset -v 1 -c private localhost sysLocation.0 s \"LabRedes\""
   ]
  },
  {
   "cell_type": "markdown",
   "metadata": {},
   "source": [
    "f) obter a descrição da interface localizada na 1a. linha da tabela ifTable"
   ]
  },
  {
   "cell_type": "code",
   "execution_count": 23,
   "metadata": {},
   "outputs": [
    {
     "name": "stdout",
     "output_type": "stream",
     "text": [
      "IF-MIB::ifDescr.1 = STRING: lo\n"
     ]
    }
   ],
   "source": [
    "%%bash\n",
    "\n",
    "snmpgetnext -v 1 -c public localhost ifDescr"
   ]
  },
  {
   "cell_type": "markdown",
   "metadata": {},
   "source": [
    "g) obter o endereço IP, índice da interface na tabela ipTable, máscara de rede e endereço de broadcast da primeira entrada da tabela ipAddrEntry"
   ]
  },
  {
   "cell_type": "code",
   "execution_count": 25,
   "metadata": {},
   "outputs": [
    {
     "name": "stdout",
     "output_type": "stream",
     "text": [
      "IP-MIB::ipAdEntIfIndex.127.0.0.1 = INTEGER: 1\n",
      "IP-MIB::ipAdEntNetMask.127.0.0.1 = IpAddress: 255.0.0.0\n",
      "IP-MIB::ipAdEntBcastAddr.127.0.0.1 = INTEGER: 0\n"
     ]
    }
   ],
   "source": [
    "%%bash\n",
    "\n",
    "snmpgetnext -v 1 -c public localhost ipAdEntIfIndex ipAdEntNetMask ipAdEntBcastAddr"
   ]
  },
  {
   "cell_type": "markdown",
   "metadata": {},
   "source": [
    "h) obter o endereço local e porta local da primeira linha da tabela udpTable"
   ]
  },
  {
   "cell_type": "code",
   "execution_count": 26,
   "metadata": {},
   "outputs": [
    {
     "name": "stdout",
     "output_type": "stream",
     "text": [
      "UDP-MIB::udpLocalPort.0.0.0.0.161 = INTEGER: 161\n",
      "UDP-MIB::udpLocalAddress.0.0.0.0.161 = IpAddress: 0.0.0.0\n"
     ]
    }
   ],
   "source": [
    "%%bash\n",
    "\n",
    "snmpgetnext -v 1 -c public localhost udpLocalPort udpLocalAddress"
   ]
  },
  {
   "cell_type": "markdown",
   "metadata": {},
   "source": [
    "## Using snmpbulkget"
   ]
  },
  {
   "cell_type": "code",
   "execution_count": 29,
   "metadata": {},
   "outputs": [
    {
     "name": "stdout",
     "output_type": "stream",
     "text": [
      "SNMPv2-MIB::sysDescr.0 = STRING: Linux codespaces-29be28 6.5.0-1021-azure #22~22.04.1-Ubuntu SMP Tue Apr 30 16:08:18 UTC 2024 x86_64\n",
      "IF-MIB::ifNumber.0 = INTEGER: 3\n",
      "IF-MIB::ifIndex.1 = INTEGER: 1\n",
      "IF-MIB::ifDescr.1 = STRING: lo\n",
      "IF-MIB::ifSpeed.1 = Gauge32: 10000000\n",
      "IF-MIB::ifIndex.2 = INTEGER: 2\n",
      "IF-MIB::ifDescr.2 = STRING: Microsoft Corporation Device 0003\n",
      "IF-MIB::ifSpeed.2 = Gauge32: 4294967295\n",
      "IF-MIB::ifIndex.3 = INTEGER: 3\n",
      "IF-MIB::ifDescr.3 = STRING: docker0\n",
      "IF-MIB::ifSpeed.3 = Gauge32: 0\n"
     ]
    }
   ],
   "source": [
    "%%bash\n",
    "\n",
    "snmpbulkget -v2c -c public localhost -Cn2 -Cr3 system interfaces ifIndex ifDescr ifSpeed"
   ]
  },
  {
   "cell_type": "code",
   "execution_count": null,
   "metadata": {},
   "outputs": [],
   "source": [
    "%%bash\n",
    "\n",
    "snmpbulkget -v2c -c public localhost -Cn4 -Cr5 tcpInSegs tcpOutSegs tcpRetransSegs tcpInErrs tcpConnState tcpConnLocalAddress tcpConnLocalPort tcpConnRemAddress tcpConnRemPort"
   ]
  },
  {
   "cell_type": "code",
   "execution_count": 30,
   "metadata": {},
   "outputs": [
    {
     "name": "stdout",
     "output_type": "stream",
     "text": [
      "UDP-MIB::udpLocalAddress.0.0.0.0.161 = IpAddress: 0.0.0.0\n",
      "UDP-MIB::udpLocalPort.0.0.0.0.161 = INTEGER: 161\n",
      "UDP-MIB::udpLocalAddress.0.0.0.0.49023 = IpAddress: 0.0.0.0\n",
      "UDP-MIB::udpLocalPort.0.0.0.0.49023 = INTEGER: 49023\n",
      "UDP-MIB::udpLocalAddress.127.0.0.53.53 = IpAddress: 127.0.0.53\n",
      "UDP-MIB::udpLocalPort.127.0.0.53.53 = INTEGER: 53\n",
      "UDP-MIB::udpLocalAddress.172.16.5.4.68 = IpAddress: 172.16.5.4\n",
      "UDP-MIB::udpLocalPort.172.16.5.4.68 = INTEGER: 68\n"
     ]
    }
   ],
   "source": [
    "%%bash\n",
    "\n",
    "snmpbulkget -v2c -c public localhost -Cn0 -Cr4 udpLocalAddress udpLocalPort"
   ]
  },
  {
   "cell_type": "markdown",
   "metadata": {},
   "source": [
    "## Comparing snmpwalk vs snmpbulkwalk\n",
    "\n"
   ]
  },
  {
   "cell_type": "code",
   "execution_count": null,
   "metadata": {},
   "outputs": [],
   "source": [
    "%%bash\n",
    "\n",
    "# run on terminal: sudo tcpdump -i lo -n port 161 -v\n",
    "# snmpwalk -v 1 -c public localhost system\n",
    "\n",
    "snmpbulkwalk -v 2c -c public localhost system"
   ]
  },
  {
   "cell_type": "markdown",
   "metadata": {},
   "source": [
    "# Example using pass directive"
   ]
  },
  {
   "cell_type": "markdown",
   "metadata": {},
   "source": [
    "## snmpd.conf"
   ]
  },
  {
   "cell_type": "code",
   "execution_count": null,
   "metadata": {},
   "outputs": [],
   "source": [
    "%%bash\n",
    "\n",
    "# Add pass directive to snmpd.conf\n",
    "sudo tee /etc/snmp/snmpd.conf > /dev/null <<EOF\n",
    "rocommunity public\n",
    "rwcommunity private\n",
    "\n",
    "pass .1.3.6.1.4.1.2021.999.1 /usr/bin/python3 /tmp/agent.py\n",
    "EOF\n",
    "\n",
    "# Restart agent\n",
    "sudo service snmpd restart\n",
    "sudo service snmpd status"
   ]
  },
  {
   "cell_type": "markdown",
   "metadata": {},
   "source": [
    "## Agent code"
   ]
  },
  {
   "cell_type": "code",
   "execution_count": null,
   "metadata": {},
   "outputs": [],
   "source": [
    "%%writefile /tmp/agent.py\n",
    "\n",
    "#!/usr/bin/env python3\n",
    "\n",
    "import sys\n",
    "import datetime\n",
    "import socket\n",
    "\n",
    "def get_current_datetime():\n",
    "    now = datetime.datetime.now()\n",
    "    return now.strftime(\"%Y-%m-%d %H:%M:%S\")\n",
    "\n",
    "def get_hostname():\n",
    "    hostname = socket.gethostname()\n",
    "    return hostname\n",
    "\n",
    "def main():\n",
    "\n",
    "    with open(\"/tmp/agent.log\", 'w') as file:\n",
    "        file.write(' '.join(sys.argv))\n",
    "\n",
    "    if len(sys.argv) != 3:\n",
    "        print(\"Usage: agent.py <MIB-oid> <request-type>\")\n",
    "        return\n",
    "\n",
    "    request_type = sys.argv[1]\n",
    "    oid = sys.argv[2]\n",
    "\n",
    "    if request_type == \"-g\":  # GET request\n",
    "        if oid == \".1.3.6.1.4.1.2021.999.1.1.0\":\n",
    "            print(\".1.3.6.1.4.1.2021.999.1.1.0\")\n",
    "            print(\"string\")\n",
    "            print(get_current_datetime())\n",
    "        elif oid == \".1.3.6.1.4.1.2021.999.1.2.0\":\n",
    "            print(\".1.3.6.1.4.1.2021.999.1.2.0\")\n",
    "            print(\"string\")\n",
    "            print(get_hostname())\n",
    "        else:\n",
    "            print(\"NONE\")\n",
    "    else:\n",
    "        print(\"NONE\")\n",
    "\n",
    "if __name__ == \"__main__\":\n",
    "    main()"
   ]
  },
  {
   "cell_type": "markdown",
   "metadata": {},
   "source": [
    "## Testing"
   ]
  },
  {
   "cell_type": "code",
   "execution_count": null,
   "metadata": {},
   "outputs": [],
   "source": [
    "%%bash\n",
    "\n",
    "snmpget -v2c -c public localhost .1.3.6.1.4.1.2021.999.1.1.0\n",
    "snmpget -v2c -c public localhost .1.3.6.1.4.1.2021.999.1.2.0"
   ]
  },
  {
   "cell_type": "markdown",
   "metadata": {},
   "source": [
    "# SNMPv3\n",
    "\n",
    "- snnmpd.conf - http://www.net-snmp.org/docs/man/snmpd.conf.html\n",
    "- User creation - http://www.net-snmp.org/docs/man/snmpusm.html\n",
    "- Access control - http://www.net-snmp.org/docs/man/snmpvacm.html"
   ]
  },
  {
   "cell_type": "code",
   "execution_count": 2,
   "metadata": {},
   "outputs": [
    {
     "name": "stdout",
     "output_type": "stream",
     "text": [
      " * Starting SNMP Services snmpd\n"
     ]
    }
   ],
   "source": [
    "%%bash\n",
    "\n",
    "# SNMPv3 agent configuration\n",
    "\n",
    "# clear /etc/snmp/snmpd.conf configuration\n",
    "sudo tee /etc/snmp/snmpd.conf > /dev/null <<EOF\n",
    "EOF\n",
    "\n",
    "# stop snmpd agent\n",
    "sudo service snmpd stop\n",
    "\n",
    "# configure initial user - /var/lib/snmp/snmpd.conf\n",
    "sudo tee /var/lib/snmp/snmpd.conf > /dev/null <<EOF\n",
    "rwuser initial\n",
    "createUser initial MD5 setup_passphrase DES\n",
    "EOF\n",
    "\n",
    "# stop snmpd agent\n",
    "sudo service snmpd start"
   ]
  },
  {
   "cell_type": "code",
   "execution_count": 3,
   "metadata": {},
   "outputs": [
    {
     "name": "stdout",
     "output_type": "stream",
     "text": [
      "DISMAN-EVENT-MIB::sysUpTimeInstance = Timeticks: (5039) 0:00:50.39\n"
     ]
    }
   ],
   "source": [
    "%%bash\n",
    "\n",
    "# test with initial user\n",
    "snmpget -v 3 -u initial -n \"\" -l authNoPriv -a MD5 -A setup_passphrase localhost sysUpTime.0"
   ]
  },
  {
   "cell_type": "code",
   "execution_count": 4,
   "metadata": {},
   "outputs": [
    {
     "name": "stdout",
     "output_type": "stream",
     "text": [
      "User successfully created.\n"
     ]
    },
    {
     "name": "stderr",
     "output_type": "stream",
     "text": [
      "no encryption type specified, which I need in order to know to change the key\n",
      "snmpget: Authentication failure (incorrect password, community or key) (Sub-id not found: (top) -> sysUpTime)\n"
     ]
    },
    {
     "ename": "CalledProcessError",
     "evalue": "Command 'b'\\n# create newuser\\nsnmpusm -v3 -u initial -n \"\" -l authNoPriv -a MD5 -A setup_passphrase localhost create newuser initial\\n\\n# change password\\nsnmpusm -v 3 -u newuser -n \"\" -l authNoPriv -a MD5 -A setup_passphrase localhost passwd setup_passphrase new_passphrase\\n\\n# test newuser\\nsnmpget -v 3 -u newuser -n \"\" -l authNoPriv -a MD5 -A new_passphrase localhost sysUpTime.0\\n'' returned non-zero exit status 1.",
     "output_type": "error",
     "traceback": [
      "\u001b[0;31m---------------------------------------------------------------------------\u001b[0m",
      "\u001b[0;31mCalledProcessError\u001b[0m                        Traceback (most recent call last)",
      "Cell \u001b[0;32mIn[4], line 1\u001b[0m\n\u001b[0;32m----> 1\u001b[0m \u001b[43mget_ipython\u001b[49m\u001b[43m(\u001b[49m\u001b[43m)\u001b[49m\u001b[38;5;241;43m.\u001b[39;49m\u001b[43mrun_cell_magic\u001b[49m\u001b[43m(\u001b[49m\u001b[38;5;124;43m'\u001b[39;49m\u001b[38;5;124;43mbash\u001b[39;49m\u001b[38;5;124;43m'\u001b[39;49m\u001b[43m,\u001b[49m\u001b[43m \u001b[49m\u001b[38;5;124;43m'\u001b[39;49m\u001b[38;5;124;43m'\u001b[39;49m\u001b[43m,\u001b[49m\u001b[43m \u001b[49m\u001b[38;5;124;43m'\u001b[39;49m\u001b[38;5;130;43;01m\\n\u001b[39;49;00m\u001b[38;5;124;43m# create newuser\u001b[39;49m\u001b[38;5;130;43;01m\\n\u001b[39;49;00m\u001b[38;5;124;43msnmpusm -v3 -u initial -n \u001b[39;49m\u001b[38;5;124;43m\"\u001b[39;49m\u001b[38;5;124;43m\"\u001b[39;49m\u001b[38;5;124;43m -l authNoPriv -a MD5 -A setup_passphrase localhost create newuser initial\u001b[39;49m\u001b[38;5;130;43;01m\\n\u001b[39;49;00m\u001b[38;5;130;43;01m\\n\u001b[39;49;00m\u001b[38;5;124;43m# change password\u001b[39;49m\u001b[38;5;130;43;01m\\n\u001b[39;49;00m\u001b[38;5;124;43msnmpusm -v 3 -u newuser -n \u001b[39;49m\u001b[38;5;124;43m\"\u001b[39;49m\u001b[38;5;124;43m\"\u001b[39;49m\u001b[38;5;124;43m -l authNoPriv -a MD5 -A setup_passphrase localhost passwd setup_passphrase new_passphrase\u001b[39;49m\u001b[38;5;130;43;01m\\n\u001b[39;49;00m\u001b[38;5;130;43;01m\\n\u001b[39;49;00m\u001b[38;5;124;43m# test newuser\u001b[39;49m\u001b[38;5;130;43;01m\\n\u001b[39;49;00m\u001b[38;5;124;43msnmpget -v 3 -u newuser -n \u001b[39;49m\u001b[38;5;124;43m\"\u001b[39;49m\u001b[38;5;124;43m\"\u001b[39;49m\u001b[38;5;124;43m -l authNoPriv -a MD5 -A new_passphrase localhost sysUpTime.0\u001b[39;49m\u001b[38;5;130;43;01m\\n\u001b[39;49;00m\u001b[38;5;124;43m'\u001b[39;49m\u001b[43m)\u001b[49m\n",
      "File \u001b[0;32m~/.local/lib/python3.10/site-packages/IPython/core/interactiveshell.py:2541\u001b[0m, in \u001b[0;36mInteractiveShell.run_cell_magic\u001b[0;34m(self, magic_name, line, cell)\u001b[0m\n\u001b[1;32m   2539\u001b[0m \u001b[38;5;28;01mwith\u001b[39;00m \u001b[38;5;28mself\u001b[39m\u001b[38;5;241m.\u001b[39mbuiltin_trap:\n\u001b[1;32m   2540\u001b[0m     args \u001b[38;5;241m=\u001b[39m (magic_arg_s, cell)\n\u001b[0;32m-> 2541\u001b[0m     result \u001b[38;5;241m=\u001b[39m \u001b[43mfn\u001b[49m\u001b[43m(\u001b[49m\u001b[38;5;241;43m*\u001b[39;49m\u001b[43margs\u001b[49m\u001b[43m,\u001b[49m\u001b[43m \u001b[49m\u001b[38;5;241;43m*\u001b[39;49m\u001b[38;5;241;43m*\u001b[39;49m\u001b[43mkwargs\u001b[49m\u001b[43m)\u001b[49m\n\u001b[1;32m   2543\u001b[0m \u001b[38;5;66;03m# The code below prevents the output from being displayed\u001b[39;00m\n\u001b[1;32m   2544\u001b[0m \u001b[38;5;66;03m# when using magics with decorator @output_can_be_silenced\u001b[39;00m\n\u001b[1;32m   2545\u001b[0m \u001b[38;5;66;03m# when the last Python token in the expression is a ';'.\u001b[39;00m\n\u001b[1;32m   2546\u001b[0m \u001b[38;5;28;01mif\u001b[39;00m \u001b[38;5;28mgetattr\u001b[39m(fn, magic\u001b[38;5;241m.\u001b[39mMAGIC_OUTPUT_CAN_BE_SILENCED, \u001b[38;5;28;01mFalse\u001b[39;00m):\n",
      "File \u001b[0;32m~/.local/lib/python3.10/site-packages/IPython/core/magics/script.py:155\u001b[0m, in \u001b[0;36mScriptMagics._make_script_magic.<locals>.named_script_magic\u001b[0;34m(line, cell)\u001b[0m\n\u001b[1;32m    153\u001b[0m \u001b[38;5;28;01melse\u001b[39;00m:\n\u001b[1;32m    154\u001b[0m     line \u001b[38;5;241m=\u001b[39m script\n\u001b[0;32m--> 155\u001b[0m \u001b[38;5;28;01mreturn\u001b[39;00m \u001b[38;5;28;43mself\u001b[39;49m\u001b[38;5;241;43m.\u001b[39;49m\u001b[43mshebang\u001b[49m\u001b[43m(\u001b[49m\u001b[43mline\u001b[49m\u001b[43m,\u001b[49m\u001b[43m \u001b[49m\u001b[43mcell\u001b[49m\u001b[43m)\u001b[49m\n",
      "File \u001b[0;32m~/.local/lib/python3.10/site-packages/IPython/core/magics/script.py:315\u001b[0m, in \u001b[0;36mScriptMagics.shebang\u001b[0;34m(self, line, cell)\u001b[0m\n\u001b[1;32m    310\u001b[0m \u001b[38;5;28;01mif\u001b[39;00m args\u001b[38;5;241m.\u001b[39mraise_error \u001b[38;5;129;01mand\u001b[39;00m p\u001b[38;5;241m.\u001b[39mreturncode \u001b[38;5;241m!=\u001b[39m \u001b[38;5;241m0\u001b[39m:\n\u001b[1;32m    311\u001b[0m     \u001b[38;5;66;03m# If we get here and p.returncode is still None, we must have\u001b[39;00m\n\u001b[1;32m    312\u001b[0m     \u001b[38;5;66;03m# killed it but not yet seen its return code. We don't wait for it,\u001b[39;00m\n\u001b[1;32m    313\u001b[0m     \u001b[38;5;66;03m# in case it's stuck in uninterruptible sleep. -9 = SIGKILL\u001b[39;00m\n\u001b[1;32m    314\u001b[0m     rc \u001b[38;5;241m=\u001b[39m p\u001b[38;5;241m.\u001b[39mreturncode \u001b[38;5;129;01mor\u001b[39;00m \u001b[38;5;241m-\u001b[39m\u001b[38;5;241m9\u001b[39m\n\u001b[0;32m--> 315\u001b[0m     \u001b[38;5;28;01mraise\u001b[39;00m CalledProcessError(rc, cell)\n",
      "\u001b[0;31mCalledProcessError\u001b[0m: Command 'b'\\n# create newuser\\nsnmpusm -v3 -u initial -n \"\" -l authNoPriv -a MD5 -A setup_passphrase localhost create newuser initial\\n\\n# change password\\nsnmpusm -v 3 -u newuser -n \"\" -l authNoPriv -a MD5 -A setup_passphrase localhost passwd setup_passphrase new_passphrase\\n\\n# test newuser\\nsnmpget -v 3 -u newuser -n \"\" -l authNoPriv -a MD5 -A new_passphrase localhost sysUpTime.0\\n'' returned non-zero exit status 1."
     ]
    }
   ],
   "source": [
    "%%bash\n",
    "\n",
    "# create newuser\n",
    "snmpusm -v3 -u initial -n \"\" -l authNoPriv -a MD5 -A setup_passphrase localhost create newuser initial\n",
    "\n",
    "# change password\n",
    "snmpusm -v 3 -u newuser -n \"\" -l authNoPriv -a MD5 -A setup_passphrase localhost passwd setup_passphrase new_passphrase\n",
    "\n",
    "# test newuser\n",
    "snmpget -v 3 -u newuser -n \"\" -l authNoPriv -a MD5 -A new_passphrase localhost sysUpTime.0"
   ]
  },
  {
   "cell_type": "markdown",
   "metadata": {},
   "source": [
    "- usuário \"privAdmin\": acesso de leitura e escrita, somente em requisições incluindo autenticação e privacidade, com permissão de acesso a todos objetos existentes (.1);\n",
    "- usuário \"authAdmin\": acesso de somente leitura, em requisições incluindo no mínimo autenticação, com permissão de acesso a todos objetos da mib-2;\n",
    "- usuário \"commonUser\": acesso de somente leitura, em requisições sem necessidade de autenticação ou privacidade, com permissão de acesso somente ao grupo system da mib-2."
   ]
  },
  {
   "cell_type": "code",
   "execution_count": null,
   "metadata": {},
   "outputs": [],
   "source": [
    "%%bash\n",
    "\n",
    "snmptable -v 3 -u initial -n \"\" -a MD5 -A privsenha -x DES -X privsenha -l authPriv -Ci -Cw 80 usmUserTable"
   ]
  }
 ],
 "metadata": {
  "kernelspec": {
   "display_name": "Python 3",
   "language": "python",
   "name": "python3"
  },
  "language_info": {
   "codemirror_mode": {
    "name": "ipython",
    "version": 3
   },
   "file_extension": ".py",
   "mimetype": "text/x-python",
   "name": "python",
   "nbconvert_exporter": "python",
   "pygments_lexer": "ipython3",
   "version": "3.10.13"
  }
 },
 "nbformat": 4,
 "nbformat_minor": 2
}
